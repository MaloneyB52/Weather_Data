{
 "cells": [
  {
   "cell_type": "code",
   "execution_count": 25,
   "id": "0fd8a7dc",
   "metadata": {},
   "outputs": [],
   "source": [
    "# Import the dependencies.\n",
    "import pandas as pd\n",
    "import matplotlib.pyplot as plt\n",
    "import numpy as np"
   ]
  },
  {
   "cell_type": "code",
   "execution_count": 44,
   "id": "47536bfc",
   "metadata": {},
   "outputs": [
    {
     "data": {
      "text/plain": [
       "<zip at 0x7fcdf2588d40>"
      ]
     },
     "execution_count": 44,
     "metadata": {},
     "output_type": "execute_result"
    }
   ],
   "source": [
    "# Create a set of random latitude and longitude combinations.\n",
    "lats = np.random.uniform(low=-90.000, high=90.000, size=1500)\n",
    "lngs = np.random.uniform(low=-180.000, high=180.000, size=1500)\n",
    "lat_lngs = zip(lats, lngs)\n",
    "lat_lngs"
   ]
  },
  {
   "cell_type": "code",
   "execution_count": 45,
   "id": "f7320c2a",
   "metadata": {},
   "outputs": [],
   "source": [
    "# Add the latitudes and longitudes to a list.\n",
    "coordinates = list(lat_lngs)\n",
    "# len(coordinates)"
   ]
  },
  {
   "cell_type": "code",
   "execution_count": 46,
   "id": "f24e7ca4",
   "metadata": {},
   "outputs": [],
   "source": [
    "from citipy import citipy"
   ]
  },
  {
   "cell_type": "code",
   "execution_count": 47,
   "id": "2961d67e",
   "metadata": {},
   "outputs": [
    {
     "data": {
      "text/plain": [
       "19"
      ]
     },
     "execution_count": 47,
     "metadata": {},
     "output_type": "execute_result"
    }
   ],
   "source": [
    "# Create a list for holding the cities.\n",
    "cities = []\n",
    "\n",
    "# Identify nearest city for each latitude and longitude combination\n",
    "for lat_lng in coordinates:\n",
    "    city = citipy.nearest_city(lat_lng[0], lat_lng[1]).city_name\n",
    "\n",
    "    # If the city is unique, then add it to a our cities list\n",
    "    if city not in cities:\n",
    "        cities.append(city)\n",
    "        \n",
    "# Print the city count to confirm sufficient count\n",
    "len(cities)"
   ]
  },
  {
   "cell_type": "code",
   "execution_count": 48,
   "id": "b5f569f9",
   "metadata": {},
   "outputs": [
    {
     "data": {
      "text/plain": [
       "['vangaindrano',\n",
       " 'coracora',\n",
       " 'east london',\n",
       " 'samusu',\n",
       " 'vaini',\n",
       " 'tessalit',\n",
       " 'dongsheng',\n",
       " 'alofi',\n",
       " 'mandera',\n",
       " 'ushuaia',\n",
       " 'barentsburg',\n",
       " 'ribeira grande',\n",
       " 'bethel',\n",
       " 'mataura',\n",
       " 'puerto narino',\n",
       " 'mahebourg',\n",
       " 'gondanglegi',\n",
       " 'kahului',\n",
       " 'victoria']"
      ]
     },
     "execution_count": 48,
     "metadata": {},
     "output_type": "execute_result"
    }
   ],
   "source": [
    "# cities"
   ]
  },
  {
   "cell_type": "code",
   "execution_count": 49,
   "id": "3dd8e99f",
   "metadata": {},
   "outputs": [],
   "source": [
    "# Import the requests library.\n",
    "import requests\n",
    "\n",
    "# Import the API key.\n",
    "from config import weather_api_key"
   ]
  },
  {
   "cell_type": "code",
   "execution_count": 50,
   "id": "0b1c5ac5",
   "metadata": {},
   "outputs": [
    {
     "name": "stdout",
     "output_type": "stream",
     "text": [
      "http://api.openweathermap.org/data/2.5/weather?units=Imperial&APPID=4367bcaf1368275cecb0fbab3bc76fc0\n"
     ]
    }
   ],
   "source": [
    "# Starting URL for Weather Map API Call.\n",
    "url = \"http://api.openweathermap.org/data/2.5/weather?units=Imperial&APPID=\" + weather_api_key\n",
    "print(url)"
   ]
  },
  {
   "cell_type": "code",
   "execution_count": 51,
   "id": "145d4cae",
   "metadata": {},
   "outputs": [],
   "source": [
    "# Import the datetime module from the datetime library.\n",
    "from datetime import datetime"
   ]
  },
  {
   "cell_type": "code",
   "execution_count": 57,
   "id": "d6e18fcc",
   "metadata": {},
   "outputs": [
    {
     "name": "stdout",
     "output_type": "stream",
     "text": [
      "Beginning Data Retrieval     \n",
      "-----------------------------\n",
      "Processing Record 1 of Set 1 | vangaindrano\n",
      "Processing Record 2 of Set 1 | coracora\n",
      "Processing Record 3 of Set 1 | east london\n",
      "Processing Record 4 of Set 1 | samusu\n",
      "City not found. Skipping...\n",
      "Processing Record 5 of Set 1 | vaini\n",
      "Processing Record 6 of Set 1 | tessalit\n",
      "Processing Record 7 of Set 1 | dongsheng\n",
      "Processing Record 8 of Set 1 | alofi\n",
      "Processing Record 9 of Set 1 | mandera\n",
      "Processing Record 10 of Set 1 | ushuaia\n",
      "Processing Record 11 of Set 1 | barentsburg\n",
      "City not found. Skipping...\n",
      "Processing Record 12 of Set 1 | ribeira grande\n",
      "Processing Record 13 of Set 1 | bethel\n",
      "Processing Record 14 of Set 1 | mataura\n",
      "Processing Record 15 of Set 1 | puerto narino\n",
      "Processing Record 16 of Set 1 | mahebourg\n",
      "Processing Record 17 of Set 1 | gondanglegi\n",
      "Processing Record 18 of Set 1 | kahului\n",
      "Processing Record 19 of Set 1 | victoria\n",
      "-----------------------------\n",
      "Data Retrieval Complete      \n",
      "-----------------------------\n"
     ]
    }
   ],
   "source": [
    "from pprint import pprint\n",
    "\n",
    "# Create an empty list to hold the weather data.\n",
    "city_data = []\n",
    "\n",
    "# Print the beginning of the logging.\n",
    "print(\"Beginning Data Retrieval     \")\n",
    "print(\"-----------------------------\")\n",
    "\n",
    "# Create counters.\n",
    "record_count = 1\n",
    "set_count = 1\n",
    "\n",
    "# Loop through all the cities in our list.\n",
    "# for i in range(len(cities)):\n",
    "\n",
    "#     # Group cities in sets of 50 for logging purposes.\n",
    "#     if (i % 50 == 0 and i >= 50):\n",
    "#         set_count += 1\n",
    "#         record_count = 1\n",
    "#     # Create endpoint URL with each city.\n",
    "#     city_url = url + \"&q=\" + cities[i]\n",
    "    \n",
    "# Loop through all the cities in the list.\n",
    "for i, city in enumerate(cities):\n",
    "\n",
    "    # Group cities in sets of 50 for logging purposes.\n",
    "    if (i % 50 == 0 and i >= 50):\n",
    "        set_count += 1\n",
    "        record_count = 1\n",
    "        \n",
    "    # Create endpoint URL with each city.\n",
    "    city_url = url + \"&q=\" + city.replace(\" \",\"+\")\n",
    "\n",
    "    # Log the URL, record, and set numbers and the city.\n",
    "    print(f\"Processing Record {record_count} of Set {set_count} | {city}\")\n",
    "    \n",
    "    # Add 1 to the record count.\n",
    "    record_count += 1\n",
    "    \n",
    "    # Run an API request for each of the cities.\n",
    "    try:\n",
    "        # Parse the JSON and retrieve data.\n",
    "        city_weather = requests.get(city_url).json()\n",
    "#         pprint(city_weather)\n",
    "#         break\n",
    "        \n",
    "        # Parse out the needed data.\n",
    "        city_lat = city_weather[\"coord\"][\"lat\"]\n",
    "        city_lng = city_weather[\"coord\"][\"lon\"]\n",
    "        city_max_temp = city_weather[\"main\"][\"temp_max\"]\n",
    "        city_humidity = city_weather[\"main\"][\"humidity\"]\n",
    "        city_clouds = city_weather[\"clouds\"][\"all\"]\n",
    "        city_wind = city_weather[\"wind\"][\"speed\"]\n",
    "        city_country = city_weather[\"sys\"][\"country\"]\n",
    "        # Convert the date to ISO standard.\n",
    "        city_date = datetime.utcfromtimestamp(city_weather[\"dt\"]).strftime('%Y-%m-%d %H:%M:%S')\n",
    "        \n",
    "        # Append the city information into city_data list.\n",
    "        city_data.append({\"City\": city.title(),\n",
    "                          \"Lat\": city_lat,\n",
    "                          \"Lng\": city_lng,\n",
    "                          \"Max Temp\": city_max_temp,\n",
    "                          \"Humidity\": city_humidity,\n",
    "                          \"Cloudiness\": city_clouds,\n",
    "                          \"Wind Speed\": city_wind,\n",
    "                          \"Country\": city_country,\n",
    "                          \"Date\": city_date})\n",
    "\n",
    "# If an error is experienced, skip the city.\n",
    "    except:\n",
    "        print(\"City not found. Skipping...\")\n",
    "        pass\n",
    "\n",
    "# Indicate that Data Loading is complete.\n",
    "print(\"-----------------------------\")\n",
    "print(\"Data Retrieval Complete      \")\n",
    "print(\"-----------------------------\")"
   ]
  },
  {
   "cell_type": "code",
   "execution_count": 58,
   "id": "92182e31",
   "metadata": {},
   "outputs": [
    {
     "data": {
      "text/html": [
       "<div>\n",
       "<style scoped>\n",
       "    .dataframe tbody tr th:only-of-type {\n",
       "        vertical-align: middle;\n",
       "    }\n",
       "\n",
       "    .dataframe tbody tr th {\n",
       "        vertical-align: top;\n",
       "    }\n",
       "\n",
       "    .dataframe thead th {\n",
       "        text-align: right;\n",
       "    }\n",
       "</style>\n",
       "<table border=\"1\" class=\"dataframe\">\n",
       "  <thead>\n",
       "    <tr style=\"text-align: right;\">\n",
       "      <th></th>\n",
       "      <th>City</th>\n",
       "      <th>Lat</th>\n",
       "      <th>Lng</th>\n",
       "      <th>Max Temp</th>\n",
       "      <th>Humidity</th>\n",
       "      <th>Cloudiness</th>\n",
       "      <th>Wind Speed</th>\n",
       "      <th>Country</th>\n",
       "      <th>Date</th>\n",
       "    </tr>\n",
       "  </thead>\n",
       "  <tbody>\n",
       "    <tr>\n",
       "      <th>0</th>\n",
       "      <td>Vangaindrano</td>\n",
       "      <td>-23.3500</td>\n",
       "      <td>47.6000</td>\n",
       "      <td>67.82</td>\n",
       "      <td>90</td>\n",
       "      <td>0</td>\n",
       "      <td>5.68</td>\n",
       "      <td>MG</td>\n",
       "      <td>2021-10-18 22:38:05</td>\n",
       "    </tr>\n",
       "    <tr>\n",
       "      <th>1</th>\n",
       "      <td>Coracora</td>\n",
       "      <td>-15.0333</td>\n",
       "      <td>-73.7833</td>\n",
       "      <td>54.16</td>\n",
       "      <td>54</td>\n",
       "      <td>48</td>\n",
       "      <td>7.38</td>\n",
       "      <td>PE</td>\n",
       "      <td>2021-10-18 22:38:05</td>\n",
       "    </tr>\n",
       "    <tr>\n",
       "      <th>2</th>\n",
       "      <td>East London</td>\n",
       "      <td>-33.0153</td>\n",
       "      <td>27.9116</td>\n",
       "      <td>56.23</td>\n",
       "      <td>74</td>\n",
       "      <td>34</td>\n",
       "      <td>5.75</td>\n",
       "      <td>ZA</td>\n",
       "      <td>2021-10-18 22:38:05</td>\n",
       "    </tr>\n",
       "    <tr>\n",
       "      <th>3</th>\n",
       "      <td>Vaini</td>\n",
       "      <td>-21.2000</td>\n",
       "      <td>-175.2000</td>\n",
       "      <td>80.76</td>\n",
       "      <td>74</td>\n",
       "      <td>40</td>\n",
       "      <td>10.36</td>\n",
       "      <td>TO</td>\n",
       "      <td>2021-10-18 22:46:40</td>\n",
       "    </tr>\n",
       "    <tr>\n",
       "      <th>4</th>\n",
       "      <td>Tessalit</td>\n",
       "      <td>20.1986</td>\n",
       "      <td>1.0114</td>\n",
       "      <td>81.90</td>\n",
       "      <td>13</td>\n",
       "      <td>0</td>\n",
       "      <td>9.26</td>\n",
       "      <td>ML</td>\n",
       "      <td>2021-10-18 22:46:41</td>\n",
       "    </tr>\n",
       "    <tr>\n",
       "      <th>5</th>\n",
       "      <td>Dongsheng</td>\n",
       "      <td>39.8161</td>\n",
       "      <td>109.9776</td>\n",
       "      <td>31.21</td>\n",
       "      <td>61</td>\n",
       "      <td>94</td>\n",
       "      <td>11.45</td>\n",
       "      <td>CN</td>\n",
       "      <td>2021-10-18 22:46:41</td>\n",
       "    </tr>\n",
       "    <tr>\n",
       "      <th>6</th>\n",
       "      <td>Alofi</td>\n",
       "      <td>-19.0595</td>\n",
       "      <td>-169.9187</td>\n",
       "      <td>76.89</td>\n",
       "      <td>83</td>\n",
       "      <td>75</td>\n",
       "      <td>18.41</td>\n",
       "      <td>NU</td>\n",
       "      <td>2021-10-18 22:38:07</td>\n",
       "    </tr>\n",
       "    <tr>\n",
       "      <th>7</th>\n",
       "      <td>Mandera</td>\n",
       "      <td>3.9366</td>\n",
       "      <td>41.8670</td>\n",
       "      <td>80.55</td>\n",
       "      <td>60</td>\n",
       "      <td>91</td>\n",
       "      <td>18.32</td>\n",
       "      <td>KE</td>\n",
       "      <td>2021-10-18 22:46:41</td>\n",
       "    </tr>\n",
       "    <tr>\n",
       "      <th>8</th>\n",
       "      <td>Ushuaia</td>\n",
       "      <td>-54.8000</td>\n",
       "      <td>-68.3000</td>\n",
       "      <td>46.06</td>\n",
       "      <td>61</td>\n",
       "      <td>40</td>\n",
       "      <td>27.63</td>\n",
       "      <td>AR</td>\n",
       "      <td>2021-10-18 22:46:42</td>\n",
       "    </tr>\n",
       "    <tr>\n",
       "      <th>9</th>\n",
       "      <td>Ribeira Grande</td>\n",
       "      <td>38.5167</td>\n",
       "      <td>-28.7000</td>\n",
       "      <td>69.35</td>\n",
       "      <td>71</td>\n",
       "      <td>16</td>\n",
       "      <td>19.57</td>\n",
       "      <td>PT</td>\n",
       "      <td>2021-10-18 22:46:42</td>\n",
       "    </tr>\n",
       "  </tbody>\n",
       "</table>\n",
       "</div>"
      ],
      "text/plain": [
       "             City      Lat       Lng  Max Temp  Humidity  Cloudiness  \\\n",
       "0    Vangaindrano -23.3500   47.6000     67.82        90           0   \n",
       "1        Coracora -15.0333  -73.7833     54.16        54          48   \n",
       "2     East London -33.0153   27.9116     56.23        74          34   \n",
       "3           Vaini -21.2000 -175.2000     80.76        74          40   \n",
       "4        Tessalit  20.1986    1.0114     81.90        13           0   \n",
       "5       Dongsheng  39.8161  109.9776     31.21        61          94   \n",
       "6           Alofi -19.0595 -169.9187     76.89        83          75   \n",
       "7         Mandera   3.9366   41.8670     80.55        60          91   \n",
       "8         Ushuaia -54.8000  -68.3000     46.06        61          40   \n",
       "9  Ribeira Grande  38.5167  -28.7000     69.35        71          16   \n",
       "\n",
       "   Wind Speed Country                 Date  \n",
       "0        5.68      MG  2021-10-18 22:38:05  \n",
       "1        7.38      PE  2021-10-18 22:38:05  \n",
       "2        5.75      ZA  2021-10-18 22:38:05  \n",
       "3       10.36      TO  2021-10-18 22:46:40  \n",
       "4        9.26      ML  2021-10-18 22:46:41  \n",
       "5       11.45      CN  2021-10-18 22:46:41  \n",
       "6       18.41      NU  2021-10-18 22:38:07  \n",
       "7       18.32      KE  2021-10-18 22:46:41  \n",
       "8       27.63      AR  2021-10-18 22:46:42  \n",
       "9       19.57      PT  2021-10-18 22:46:42  "
      ]
     },
     "execution_count": 58,
     "metadata": {},
     "output_type": "execute_result"
    }
   ],
   "source": [
    "# Convert the array of dictionaries to a Pandas DataFrame.\n",
    "city_data_df = pd.DataFrame(city_data)\n",
    "city_data_df.head(10)"
   ]
  },
  {
   "cell_type": "code",
   "execution_count": 60,
   "id": "6582b09d",
   "metadata": {},
   "outputs": [],
   "source": [
    "city_data_df.to_csv(\"Weather_Database/WeatherPy_Database.csv\", index_label=\"City_ID\")"
   ]
  }
 ],
 "metadata": {
  "kernelspec": {
   "display_name": "Python 3 (ipykernel)",
   "language": "python",
   "name": "python3"
  },
  "language_info": {
   "codemirror_mode": {
    "name": "ipython",
    "version": 3
   },
   "file_extension": ".py",
   "mimetype": "text/x-python",
   "name": "python",
   "nbconvert_exporter": "python",
   "pygments_lexer": "ipython3",
   "version": "3.8.8"
  }
 },
 "nbformat": 4,
 "nbformat_minor": 5
}
